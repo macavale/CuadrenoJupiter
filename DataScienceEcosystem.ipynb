{
  "metadata": {
    "kernelspec": {
      "name": "python",
      "display_name": "Python (Pyodide)",
      "language": "python"
    },
    "language_info": {
      "codemirror_mode": {
        "name": "python",
        "version": 3
      },
      "file_extension": ".py",
      "mimetype": "text/x-python",
      "name": "python",
      "nbconvert_exporter": "python",
      "pygments_lexer": "ipython3",
      "version": "3.8"
    }
  },
  "nbformat_minor": 4,
  "nbformat": 4,
  "cells": [
    {
      "cell_type": "markdown",
      "source": "# Data Science Tools and Ecosystem",
      "metadata": {}
    },
    {
      "cell_type": "markdown",
      "source": "### In this notebook, Data Science Tools and Ecosystem are summarized.",
      "metadata": {}
    },
    {
      "cell_type": "markdown",
      "source": "## Objectives:\n\n* **List popular languages for Data Science** (Covered in Exercise 4)\n* **Identify commonly used libraries in Data Science** (Covered in Exercise 5)\n* **Recognize development environment tools for Data Science** (Covered in Exercise 6)\n* **Evaluate basic arithmetic expressions in Python** (Covered in Exercise 8)\n* **Perform unit conversion calculations using Python** (Covered in Exercise 9)\n\n**Note:** You can adjust the numbering or specific points depending on your exact notebook content. \n",
      "metadata": {
        "tags": [],
        "editable": true,
        "slideshow": {
          "slide_type": ""
        }
      }
    },
    {
      "cell_type": "markdown",
      "source": "#### Some of the popular languages that Data Scientists use are:\n\n1. Python\n2. R\n3. SQL",
      "metadata": {}
    },
    {
      "cell_type": "markdown",
      "source": "#### Some of the commonly used libraries used by Data Scientists include:\n\n1. NumPy\n2. Pandas\n3. Matplotlib",
      "metadata": {}
    },
    {
      "cell_type": "markdown",
      "source": "## Data Science Tools\n| Data Science Tools |\n|---|---|\n| Jupyter Notebook |\n| PyCharm |\n| Visual Studio Code |\n",
      "metadata": {}
    },
    {
      "cell_type": "markdown",
      "source": "### Below are a few examples of evaluating arithmetic expressions in Python\n\nIn this section, we'll explore how to use Python to perform calculations using arithmetic expressions. These expressions combine numbers and mathematical operators to produce a result. \n",
      "metadata": {}
    },
    {
      "cell_type": "markdown",
      "source": "# This is a simple arithmetic expression to multiply then add integers\nresult = (3 * 4) + 5\n\n# Print the result\nprint(result)",
      "metadata": {}
    },
    {
      "cell_type": "code",
      "source": "# This will convert 200 minutes to hours by dividing by 60\nminutes = 200\nhours = minutes / 60\n\n# Print the result in a readable format (hours with two decimal places)\nprint(f\"{minutes} minutes is equivalent to {hours:.2f} hours\")\n",
      "metadata": {
        "trusted": true
      },
      "outputs": [
        {
          "name": "stdout",
          "text": "200 minutes is equivalent to 3.33 hours\n",
          "output_type": "stream"
        }
      ],
      "execution_count": 2
    },
    {
      "cell_type": "markdown",
      "source": "## Author\nJACKSSON SONNY GONZALEZ BAYONA",
      "metadata": {}
    },
    {
      "cell_type": "code",
      "source": "",
      "metadata": {
        "trusted": true
      },
      "outputs": [],
      "execution_count": null
    },
    {
      "cell_type": "code",
      "source": "",
      "metadata": {
        "trusted": true
      },
      "outputs": [],
      "execution_count": null
    }
  ]
}